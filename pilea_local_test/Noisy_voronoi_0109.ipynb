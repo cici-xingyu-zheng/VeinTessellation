{
 "cells": [
  {
   "cell_type": "markdown",
   "metadata": {},
   "source": [
    "#### Noisy Voronoi performance\n",
    "\n",
    "In this notebook we look at the noisy Voronoi tesellation's test performance.\n",
    "\n",
    "First we use the hydathode sets as seeds, and generate Voronoi tesellation of them. We subsequently test for the reference point sets and maybe other reference points' performance. "
   ]
  },
  {
   "cell_type": "code",
   "execution_count": 2,
   "metadata": {},
   "outputs": [],
   "source": [
    "import graph_create, voronoi_local, jaccard_similarity, figure_plot\n",
    "\n",
    "import pandas as pd\n",
    "import numpy as np\n",
    "import matplotlib.pyplot as plt\n",
    "import matplotlib as mpl\n",
    "import seaborn as sns\n",
    "import networkx as nx\n",
    "\n",
    "from scipy.spatial import Voronoi, voronoi_plot_2d\n",
    "from shapely.geometry import Polygon "
   ]
  },
  {
   "cell_type": "code",
   "execution_count": 3,
   "metadata": {},
   "outputs": [
    {
     "name": "stdout",
     "output_type": "stream",
     "text": [
      "Creating graph from vein and dot tracing images.\n",
      "\n",
      "- Step1: reading files...\n",
      "\n",
      "- Step2: create dot graph...\n",
      "\n",
      "- Step3: read vein graph...\n",
      "\n",
      "- Step4: merge graphs...\n",
      "\n",
      "- Step5: find testable faces...\n",
      "\n",
      "Graph creation completed.\n",
      "\n"
     ]
    }
   ],
   "source": [
    "sample = 'PileaTLeaf2'\n",
    "G = graph_create.graph_creation(sample)"
   ]
  },
  {
   "cell_type": "markdown",
   "metadata": {},
   "source": [
    "__testing the hydathode set__:"
   ]
  },
  {
   "cell_type": "code",
   "execution_count": 27,
   "metadata": {},
   "outputs": [],
   "source": [
    "seeds = [n for n in G.nodes if G.nodes[n]['type'] != 'vein']\n",
    "vor = Voronoi(seeds)\n",
    "bounded_regions = jaccard_similarity.bounded_polygons(G, vor)\n",
    "J_list = jaccard_similarity.overlap_test(G, seeds, bounded_regions)\n",
    "bounded_noisy_regions  = jaccard_similarity.bounded_noisy_polygons(G, vor, noise = 2)"
   ]
  },
  {
   "cell_type": "code",
   "execution_count": 28,
   "metadata": {},
   "outputs": [],
   "source": [
    "noise_list = [1, 2, 5, 10, 20, 50, 100]\n",
    "J_mean_list = []\n",
    "\n",
    "for noise in noise_list:\n",
    "    bounded_noisy_regions  = jaccard_similarity.bounded_noisy_polygons(G, vor, noise)\n",
    "    J_list_noise = jaccard_similarity.overlap_noisy_vertices(G, seeds, bounded_regions, bounded_noisy_regions)\n",
    "    J_mean_list.append(J_list_noise.mean())"
   ]
  },
  {
   "cell_type": "code",
   "execution_count": 29,
   "metadata": {},
   "outputs": [],
   "source": [
    "J_mean_df = pd.DataFrame(np.array([noise_list, J_mean_list]).T, columns = ['noise_pixel', 'J_index'])"
   ]
  },
  {
   "cell_type": "code",
   "execution_count": 30,
   "metadata": {},
   "outputs": [
    {
     "data": {
      "text/html": [
       "<div>\n",
       "<style scoped>\n",
       "    .dataframe tbody tr th:only-of-type {\n",
       "        vertical-align: middle;\n",
       "    }\n",
       "\n",
       "    .dataframe tbody tr th {\n",
       "        vertical-align: top;\n",
       "    }\n",
       "\n",
       "    .dataframe thead th {\n",
       "        text-align: right;\n",
       "    }\n",
       "</style>\n",
       "<table border=\"1\" class=\"dataframe\">\n",
       "  <thead>\n",
       "    <tr style=\"text-align: right;\">\n",
       "      <th></th>\n",
       "      <th>noise_pixel</th>\n",
       "      <th>J_index</th>\n",
       "    </tr>\n",
       "  </thead>\n",
       "  <tbody>\n",
       "    <tr>\n",
       "      <th>0</th>\n",
       "      <td>1.0</td>\n",
       "      <td>0.993692</td>\n",
       "    </tr>\n",
       "    <tr>\n",
       "      <th>1</th>\n",
       "      <td>2.0</td>\n",
       "      <td>0.987095</td>\n",
       "    </tr>\n",
       "    <tr>\n",
       "      <th>2</th>\n",
       "      <td>5.0</td>\n",
       "      <td>0.967072</td>\n",
       "    </tr>\n",
       "    <tr>\n",
       "      <th>3</th>\n",
       "      <td>10.0</td>\n",
       "      <td>0.933710</td>\n",
       "    </tr>\n",
       "    <tr>\n",
       "      <th>4</th>\n",
       "      <td>20.0</td>\n",
       "      <td>0.874201</td>\n",
       "    </tr>\n",
       "    <tr>\n",
       "      <th>5</th>\n",
       "      <td>50.0</td>\n",
       "      <td>0.738563</td>\n",
       "    </tr>\n",
       "    <tr>\n",
       "      <th>6</th>\n",
       "      <td>100.0</td>\n",
       "      <td>0.549985</td>\n",
       "    </tr>\n",
       "  </tbody>\n",
       "</table>\n",
       "</div>"
      ],
      "text/plain": [
       "   noise_pixel   J_index\n",
       "0          1.0  0.993692\n",
       "1          2.0  0.987095\n",
       "2          5.0  0.967072\n",
       "3         10.0  0.933710\n",
       "4         20.0  0.874201\n",
       "5         50.0  0.738563\n",
       "6        100.0  0.549985"
      ]
     },
     "execution_count": 30,
     "metadata": {},
     "output_type": "execute_result"
    }
   ],
   "source": [
    "J_mean_df"
   ]
  },
  {
   "cell_type": "markdown",
   "metadata": {},
   "source": [
    "__mean axes length to have an idea of the magnitude of the noise:__"
   ]
  },
  {
   "cell_type": "code",
   "execution_count": 9,
   "metadata": {},
   "outputs": [],
   "source": [
    "representative_axes = []\n",
    "\n",
    "for face in G.graph['faces']:\n",
    "    poly = Polygon(face)\n",
    "    representative_axes.append(.5*((poly.bounds[2]-poly.bounds[0]) + (poly.bounds[3]-poly.bounds[1])))\n"
   ]
  },
  {
   "cell_type": "code",
   "execution_count": 11,
   "metadata": {},
   "outputs": [
    {
     "name": "stdout",
     "output_type": "stream",
     "text": [
      "the mean polygon axes length is 478.74.\n"
     ]
    }
   ],
   "source": [
    "print(f'the mean polygon axes length is {np.array(representative_axes).mean():.2f}.')"
   ]
  },
  {
   "cell_type": "markdown",
   "metadata": {},
   "source": [
    "__use other point sets as seeds:__"
   ]
  },
  {
   "cell_type": "code",
   "execution_count": 12,
   "metadata": {},
   "outputs": [],
   "source": [
    "centroid_seeds, midpoint_seeds, random_seeds = jaccard_similarity.hybrid_seeds(G)"
   ]
  },
  {
   "cell_type": "code",
   "execution_count": 32,
   "metadata": {},
   "outputs": [],
   "source": [
    "def noisy_graph_J_index(seeds):\n",
    "\n",
    "    seeds = [n for n in G.nodes if G.nodes[n]['type'] != 'vein']\n",
    "    vor = Voronoi(seeds)\n",
    "    bounded_regions = jaccard_similarity.bounded_polygons(G, vor)\n",
    "    J_list = jaccard_similarity.overlap_test(G, seeds, bounded_regions)\n",
    "    bounded_noisy_regions  = jaccard_similarity.bounded_noisy_polygons(G, vor, noise = 2)\n",
    "\n",
    "    noise_list = [1, 2, 5, 10, 20, 50, 100]\n",
    "    J_mean_list = []\n",
    "\n",
    "    for noise in noise_list:\n",
    "        bounded_noisy_regions  = jaccard_similarity.bounded_noisy_polygons(G, vor, noise)\n",
    "        J_list_noise = jaccard_similarity.overlap_noisy_vertices(G, seeds, bounded_regions, bounded_noisy_regions)\n",
    "        J_mean_list.append(J_list_noise.mean())\n",
    "\n",
    "    J_mean_df = pd.DataFrame(np.array([noise_list, J_mean_list]).T, columns = ['noise_pixel', 'J_index'])\n",
    "\n",
    "    return J_mean_df"
   ]
  },
  {
   "cell_type": "code",
   "execution_count": 33,
   "metadata": {},
   "outputs": [],
   "source": [
    "J_mean_centroid_df = noisy_graph_J_index(centroid_seeds)\n",
    "J_mean_midpoint_df = noisy_graph_J_index(midpoint_seeds)\n",
    "J_mean_random_df = noisy_graph_J_index(random_seeds)"
   ]
  },
  {
   "cell_type": "code",
   "execution_count": 45,
   "metadata": {},
   "outputs": [
    {
     "data": {
      "image/png": "[encoded data removed]",
      "text/plain": [
       "<Figure size 576x432 with 1 Axes>"
      ]
     },
     "metadata": {
      "needs_background": "light"
     },
     "output_type": "display_data"
    }
   ],
   "source": [
    "# plot the results of different point sets:\n",
    "\n",
    "fig, ax = plt.subplots(figsize = (8,6))\n",
    "ax.plot(J_mean_df['noise_pixel'], J_mean_df['J_index'], linestyle='--', marker='o')\n",
    "ax.plot(J_mean_centroid_df['noise_pixel'], J_mean_centroid_df['J_index'], linestyle='--', marker='o')\n",
    "ax.plot(J_mean_midpoint_df['noise_pixel'], J_mean_midpoint_df['J_index'], linestyle='--', marker='o')\n",
    "ax.plot(J_mean_random_df['noise_pixel'], J_mean_random_df['J_index'], linestyle='--', marker='o')\n",
    "ax.set_xlabel('noise(pixel)', fontsize = 14)\n",
    "ax.set_ylabel('J_index', fontsize = 14)\n",
    "ax.set_title('J_index for noisy Voronoi of Hydathodes and references', fontsize = 18)\n",
    "fig.savefig('test_results/noisy_Voronoi_J_index.pdf')"
   ]
  },
  {
   "cell_type": "code",
   "execution_count": null,
   "metadata": {},
   "outputs": [],
   "source": []
  },
  {
   "cell_type": "code",
   "execution_count": null,
   "metadata": {},
   "outputs": [],
   "source": []
  }
 ],
 "metadata": {
  "interpreter": {
   "hash": "e5f2b81f98e7f4c9b750fd7ac745b53674feaa8225e7b6a32dbb056846c728b0"
  },
  "kernelspec": {
   "display_name": "Python 3.8.3 64-bit ('base': conda)",
   "language": "python",
   "name": "python3"
  },
  "language_info": {
   "codemirror_mode": {
    "name": "ipython",
    "version": 3
   },
   "file_extension": ".py",
   "mimetype": "text/x-python",
   "name": "python",
   "nbconvert_exporter": "python",
   "pygments_lexer": "ipython3",
   "version": "3.8.3"
  },
  "orig_nbformat": 4
 },
 "nbformat": 4,
 "nbformat_minor": 2
}
