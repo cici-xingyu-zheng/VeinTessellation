{
 "cells": [
  {
   "cell_type": "code",
   "execution_count": 4,
   "metadata": {},
   "outputs": [],
   "source": [
    "import graph_create, jaccard_similarity, figure_save\n",
    "\n",
    "import os\n",
    "import shutil\n",
    "\n",
    "import pandas as pd\n",
    "import numpy as np\n",
    "\n",
    "from scipy.spatial import Voronoi\n",
    "import matplotlib.pyplot as plt\n",
    "import seaborn as sns"
   ]
  },
  {
   "cell_type": "code",
   "execution_count": 5,
   "metadata": {},
   "outputs": [],
   "source": [
    "sample_list = [\n",
    "'Pilea',\n",
    "'Pilea1',\n",
    "'Pilea2',\n",
    "'Pilea3',\n",
    "'PileaALeaf0',\n",
    "'PileaALeaf1',\n",
    "'PileaALeaf2',\n",
    "'PileaALeaf4',\n",
    "'PileaALeaf5',\n",
    "'PileaALeaf6',\n",
    "'PileaALeaf8',\n",
    "'PileaDriedRescanned',\n",
    "'PileaDriedRescanned1',\n",
    "'PileaDriedRescanned3',\n",
    "'PileaTLeaf2',\n",
    "'PileaTLeafADay1',\n",
    "'PileaTLeafBDay1',\n",
    "'PileaTLeafCDay1',\n",
    "'PileaTLeafDDay1',\n",
    "'PileaWLeaf1',\n",
    "'PileaWLeaf3',\n",
    "'PileaWLeaf5',\n",
    "'PileaWLeaf6',\n",
    "'PileaWLeafADay21',\n",
    "'PileaWLeafBDay1'\n",
    "]"
   ]
  },
  {
   "cell_type": "code",
   "execution_count": 7,
   "metadata": {},
   "outputs": [],
   "source": [
    "J_mean = []\n",
    "J_centroid_mean = []\n",
    "J_random_mean = []\n",
    "\n",
    "def main(sample):\n",
    "\n",
    "    print(f'creating folder for {sample}... \\n')\n",
    "    \n",
    "    deposit_folder = f\"test_results/{sample}\"\n",
    "    \n",
    "    if os.path.exists(deposit_folder):\n",
    "            shutil.rmtree(deposit_folder)\n",
    "    os.makedirs(deposit_folder)\n",
    "    \n",
    "    print(f'running for {sample}... \\n')\n",
    "\n",
    "    G = graph_create.graph_creation(sample)\n",
    "\n",
    "    seeds = [n for n in G.nodes if G.nodes[n]['type'] != 'vein']\n",
    "    vor = Voronoi(seeds)\n",
    "    bounded_regions = jaccard_similarity.bounded_polygons(G, vor)\n",
    "    J_list = jaccard_similarity.overlap_test(G, seeds, bounded_regions)\n",
    "    \n",
    "    J_mean.append(J_list.mean())\n",
    "    \n",
    "    centroid_seeds, random_seeds = jaccard_similarity.hybrid_seeds(G)\n",
    "\n",
    "    centroid_vor = Voronoi(centroid_seeds)\n",
    "    random_vor = Voronoi(random_seeds)\n",
    "\n",
    "    centroid_bounded_regions = jaccard_similarity.bounded_polygons(G, centroid_vor)\n",
    "    random_bounded_regions = jaccard_similarity.bounded_polygons(G, random_vor)\n",
    "\n",
    "    centroid_J_list = jaccard_similarity.overlap_test(G, seeds, centroid_bounded_regions)\n",
    "    J_centroid_mean.append(centroid_J_list.mean())\n",
    "\n",
    "    random_J_list = jaccard_similarity.overlap_test(G, seeds, random_bounded_regions)\n",
    "    J_random_mean.append(random_J_list.mean())\n",
    "    \n",
    "        \n",
    "    J_df = pd.DataFrame(np.array([J_list, centroid_J_list, random_J_list ]).T, columns = ['dots', 'centroid', 'random'])\n",
    "    J_df.to_csv(f'{deposit_folder}/{sample}_area_test.csv')  \n",
    "\n",
    "    single_dot = [G.nodes[seed]['type'] == 'single_dot' for seed in seeds]\n",
    "\n",
    "    figure_save.plot_vor_regions(G, seeds, single_dot, bounded_regions, deposit_folder, dot_type = 'dots')\n",
    "    figure_save.plot_vor_regions(G, centroid_seeds, single_dot, centroid_bounded_regions, deposit_folder, dot_type = 'centroid')\n",
    "    figure_save.plot_vor_regions(G, random_seeds, single_dot, random_bounded_regions, deposit_folder, dot_type = 'random')\n",
    "\n",
    "    print(f'finish running {sample} ------------- \\n')\n",
    "    \n",
    "    return\n",
    "    "
   ]
  },
  {
   "cell_type": "code",
   "execution_count": 8,
   "metadata": {},
   "outputs": [
    {
     "name": "stdout",
     "output_type": "stream",
     "text": [
      "creating folder for Pilea... \n",
      "\n",
      "running for Pilea... \n",
      "\n",
      "Creating graph from vein and dot tracing images.\n",
      "\n",
      "- Step1: reading files...\n",
      "\n",
      "- Step2: create dot graph...\n",
      "\n",
      "- Step3: read vein graph...\n",
      "\n",
      "- Step4: merge graphs...\n",
      "\n",
      "- Step5: find testable faces...\n",
      "\n",
      "Graph creation completed.\n",
      "\n"
     ]
    },
    {
     "ename": "ValueError",
     "evalue": "too many values to unpack (expected 2)",
     "output_type": "error",
     "traceback": [
      "\u001b[0;31m---------------------------------------------------------------------------\u001b[0m",
      "\u001b[0;31mValueError\u001b[0m                                Traceback (most recent call last)",
      "\u001b[0;32m<ipython-input-8-b5b7c602b07e>\u001b[0m in \u001b[0;36m<module>\u001b[0;34m\u001b[0m\n\u001b[1;32m      1\u001b[0m \u001b[0;32mfor\u001b[0m \u001b[0msample\u001b[0m \u001b[0;32min\u001b[0m \u001b[0msample_list\u001b[0m\u001b[0;34m:\u001b[0m\u001b[0;34m\u001b[0m\u001b[0;34m\u001b[0m\u001b[0m\n\u001b[0;32m----> 2\u001b[0;31m     \u001b[0mmain\u001b[0m\u001b[0;34m(\u001b[0m\u001b[0msample\u001b[0m\u001b[0;34m)\u001b[0m\u001b[0;34m\u001b[0m\u001b[0;34m\u001b[0m\u001b[0m\n\u001b[0m",
      "\u001b[0;32m<ipython-input-7-663fd708a726>\u001b[0m in \u001b[0;36mmain\u001b[0;34m(sample)\u001b[0m\n\u001b[1;32m     24\u001b[0m     \u001b[0mJ_mean\u001b[0m\u001b[0;34m.\u001b[0m\u001b[0mappend\u001b[0m\u001b[0;34m(\u001b[0m\u001b[0mJ_list\u001b[0m\u001b[0;34m.\u001b[0m\u001b[0mmean\u001b[0m\u001b[0;34m(\u001b[0m\u001b[0;34m)\u001b[0m\u001b[0;34m)\u001b[0m\u001b[0;34m\u001b[0m\u001b[0;34m\u001b[0m\u001b[0m\n\u001b[1;32m     25\u001b[0m \u001b[0;34m\u001b[0m\u001b[0m\n\u001b[0;32m---> 26\u001b[0;31m     \u001b[0mcentroid_seeds\u001b[0m\u001b[0;34m,\u001b[0m \u001b[0mrandom_seeds\u001b[0m \u001b[0;34m=\u001b[0m \u001b[0mjaccard_similarity\u001b[0m\u001b[0;34m.\u001b[0m\u001b[0mhybrid_seeds\u001b[0m\u001b[0;34m(\u001b[0m\u001b[0mG\u001b[0m\u001b[0;34m)\u001b[0m\u001b[0;34m\u001b[0m\u001b[0;34m\u001b[0m\u001b[0m\n\u001b[0m\u001b[1;32m     27\u001b[0m \u001b[0;34m\u001b[0m\u001b[0m\n\u001b[1;32m     28\u001b[0m     \u001b[0mcentroid_vor\u001b[0m \u001b[0;34m=\u001b[0m \u001b[0mVoronoi\u001b[0m\u001b[0;34m(\u001b[0m\u001b[0mcentroid_seeds\u001b[0m\u001b[0;34m)\u001b[0m\u001b[0;34m\u001b[0m\u001b[0;34m\u001b[0m\u001b[0m\n",
      "\u001b[0;31mValueError\u001b[0m: too many values to unpack (expected 2)"
     ]
    }
   ],
   "source": [
    "for sample in sample_list:\n",
    "    main(sample)  "
   ]
  },
  {
   "cell_type": "code",
   "execution_count": null,
   "metadata": {},
   "outputs": [],
   "source": []
  }
 ],
 "metadata": {
  "interpreter": {
   "hash": "e5f2b81f98e7f4c9b750fd7ac745b53674feaa8225e7b6a32dbb056846c728b0"
  },
  "kernelspec": {
   "display_name": "Python 3.8.3 64-bit ('base': conda)",
   "name": "python3"
  },
  "language_info": {
   "codemirror_mode": {
    "name": "ipython",
    "version": 3
   },
   "file_extension": ".py",
   "mimetype": "text/x-python",
   "name": "python",
   "nbconvert_exporter": "python",
   "pygments_lexer": "ipython3",
   "version": "3.8.3"
  },
  "orig_nbformat": 4
 },
 "nbformat": 4,
 "nbformat_minor": 2
}
