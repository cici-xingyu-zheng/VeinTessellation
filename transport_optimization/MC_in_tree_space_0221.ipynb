{
 "cells": [
  {
   "cell_type": "code",
   "execution_count": 1,
   "metadata": {},
   "outputs": [],
   "source": [
    "import relaxation"
   ]
  },
  {
   "cell_type": "markdown",
   "metadata": {},
   "source": [
    "'''python\n",
    "when D_t - D_t-1 < eps:\n",
    "    pick e in exist graph, get k_e\n",
    "    pick e' in the rest of list, assign k_e to k_e'\n",
    "    add e'\n",
    "    remove e\n",
    "    calculate theta, F, and update k... till  D_t' - D_t'-1 < eps\n",
    "    if D_t' < D_t:\n",
    "        accept k_e'? \n",
    "        but this might take so long to finally converge? and we might need to keep track of a D_t list.\n",
    "        - how many posibility? factorial! \n",
    "'''"
   ]
  }
 ],
 "metadata": {
  "interpreter": {
   "hash": "e5f2b81f98e7f4c9b750fd7ac745b53674feaa8225e7b6a32dbb056846c728b0"
  },
  "kernelspec": {
   "display_name": "Python 3.8.3 ('base')",
   "language": "python",
   "name": "python3"
  },
  "language_info": {
   "codemirror_mode": {
    "name": "ipython",
    "version": 3
   },
   "file_extension": ".py",
   "mimetype": "text/x-python",
   "name": "python",
   "nbconvert_exporter": "python",
   "pygments_lexer": "ipython3",
   "version": "3.8.3"
  },
  "orig_nbformat": 4
 },
 "nbformat": 4,
 "nbformat_minor": 2
}
